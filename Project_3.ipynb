{
 "cells": [
  {
   "cell_type": "code",
   "execution_count": 1,
   "metadata": {},
   "outputs": [],
   "source": [
    "from sklearn.feature_extraction.text import TfidfVectorizer \n",
    "\n"
   ]
  },
  {
   "cell_type": "code",
   "execution_count": 2,
   "metadata": {},
   "outputs": [
    {
     "data": {
      "text/plain": [
       "(230, 3)"
      ]
     },
     "execution_count": 2,
     "metadata": {},
     "output_type": "execute_result"
    }
   ],
   "source": [
    "import pandas as pd\n",
    "data =pd.read_csv(\"D:\\\\Sage\\\\OnlineTraining\\\\SageTextClassification.csv\", encoding='latin-1')\n",
    "data.shape"
   ]
  },
  {
   "cell_type": "code",
   "execution_count": 3,
   "metadata": {},
   "outputs": [
    {
     "data": {
      "text/plain": [
       "{'Agricultural and Biological Sciences',\n",
       " 'Biochemistry, Genetics and Molecular Biology',\n",
       " 'Chemistry',\n",
       " 'Environmental Science',\n",
       " 'Immunology and Microbiology',\n",
       " 'Neuroscience',\n",
       " 'engineering',\n",
       " nan}"
      ]
     },
     "execution_count": 3,
     "metadata": {},
     "output_type": "execute_result"
    }
   ],
   "source": [
    "set(data['Sub-Category'].values) # checking unique values in sub category"
   ]
  },
  {
   "cell_type": "code",
   "execution_count": 4,
   "metadata": {},
   "outputs": [
    {
     "data": {
      "text/plain": [
       "array(['engineering'], dtype=object)"
      ]
     },
     "execution_count": 4,
     "metadata": {},
     "output_type": "execute_result"
    }
   ],
   "source": [
    "data['Sub-Category'].mode().values #cheking which category is repeating most times"
   ]
  },
  {
   "cell_type": "code",
   "execution_count": 5,
   "metadata": {},
   "outputs": [],
   "source": [
    "data['Sub-Category']=data['Sub-Category'].fillna(data['Sub-Category'].mode().values[0]) # replacing nan values with mode"
   ]
  },
  {
   "cell_type": "code",
   "execution_count": 6,
   "metadata": {},
   "outputs": [
    {
     "data": {
      "text/plain": [
       "{'Agricultural and Biological Sciences',\n",
       " 'Biochemistry, Genetics and Molecular Biology',\n",
       " 'Chemistry',\n",
       " 'Environmental Science',\n",
       " 'Immunology and Microbiology',\n",
       " 'Neuroscience',\n",
       " 'engineering'}"
      ]
     },
     "execution_count": 6,
     "metadata": {},
     "output_type": "execute_result"
    }
   ],
   "source": [
    "set(data['Sub-Category'].values) # cheking whther nan still exist or not"
   ]
  },
  {
   "cell_type": "code",
   "execution_count": 7,
   "metadata": {},
   "outputs": [],
   "source": [
    "tfidf=TfidfVectorizer(stop_words=\"english\", ngram_range =(1,2), lowercase=True)\n",
    "tf_idf_op=tfidf.fit_transform(data['Abstract'].values)   # converting data to tf_idf vectorization which includes uingrams & bigrams"
   ]
  },
  {
   "cell_type": "code",
   "execution_count": null,
   "metadata": {},
   "outputs": [],
   "source": []
  },
  {
   "cell_type": "code",
   "execution_count": 8,
   "metadata": {},
   "outputs": [],
   "source": [
    "data['Sub-Category']=data['Sub-Category'].str.replace(\" \",\"\") # removing space between category words"
   ]
  },
  {
   "cell_type": "code",
   "execution_count": 9,
   "metadata": {},
   "outputs": [
    {
     "data": {
      "text/plain": [
       "0                        EnvironmentalScience\n",
       "1                        EnvironmentalScience\n",
       "2    Biochemistry,GeneticsandMolecularBiology\n",
       "3    Biochemistry,GeneticsandMolecularBiology\n",
       "4           AgriculturalandBiologicalSciences\n",
       "Name: Sub-Category, dtype: object"
      ]
     },
     "execution_count": 9,
     "metadata": {},
     "output_type": "execute_result"
    }
   ],
   "source": [
    "data['Sub-Category'].head() "
   ]
  },
  {
   "cell_type": "code",
   "execution_count": 10,
   "metadata": {},
   "outputs": [
    {
     "data": {
      "text/plain": [
       "array([3, 3, 1, 1, 0, 3, 3, 3, 5, 4, 4, 4, 4, 4, 4, 4, 4, 4, 4, 4, 4, 4,\n",
       "       4, 4, 4, 4, 4, 4, 4, 4, 4, 4, 4, 4, 5, 5, 5, 5, 5, 5, 5, 5, 5, 5,\n",
       "       5, 5, 5, 5, 5, 5, 5, 5, 5, 5, 5, 5, 5, 1, 1, 1, 1, 1, 1, 1, 1, 1,\n",
       "       1, 1, 1, 1, 1, 1, 1, 1, 1, 1, 6, 6, 6, 6, 6, 6, 6, 6, 6, 6, 6, 6,\n",
       "       6, 6, 6, 6, 6, 6, 6, 6, 6, 6, 6, 6, 6, 6, 6, 6, 6, 6, 6, 6, 6, 6,\n",
       "       6, 6, 6, 6, 6, 6, 6, 6, 6, 6, 6, 6, 6, 6, 6, 6, 6, 6, 6, 6, 6, 6,\n",
       "       6, 6, 6, 6, 6, 6, 6, 6, 6, 6, 6, 6, 6, 6, 6, 6, 6, 6, 6, 2, 6, 6,\n",
       "       6, 6, 6, 6, 6, 6, 6, 2, 6, 6, 6, 6, 6, 6, 6, 6, 6, 2, 6, 6, 6, 6,\n",
       "       6, 6, 2, 6, 6, 6, 2, 6, 6, 6, 6, 6, 6, 6, 6, 6, 6, 6, 6, 6, 6, 6,\n",
       "       6, 6, 6, 6, 2, 2, 2, 2, 6, 2, 6, 6, 6, 6, 2, 2, 2, 2, 2, 2, 6, 2,\n",
       "       6, 6, 6, 6, 6, 6, 2, 6, 6, 2], dtype=int64)"
      ]
     },
     "execution_count": 10,
     "metadata": {},
     "output_type": "execute_result"
    }
   ],
   "source": [
    "# in order to perform onehot encoder the data shoud be numeric form for tht \n",
    "#we are converitng the categories into the nuneric form so that they can be used by the one-hot encoder function\n",
    "import numpy as np\n",
    "from sklearn.preprocessing import LabelEncoder\n",
    "label_encoder = LabelEncoder()\n",
    "integer_encoded = label_encoder.fit_transform(data['Sub-Category'])\n",
    "integer_encoded # which contains the list of numeric values inwhich each values represents a category"
   ]
  },
  {
   "cell_type": "code",
   "execution_count": 11,
   "metadata": {},
   "outputs": [],
   "source": [
    "from sklearn.preprocessing import OneHotEncoder\n",
    "enc = OneHotEncoder(sparse =False) # sparse =false which makes it as array\n",
    "sub_category=pd.DataFrame(enc.fit_transform(integer_encoded.reshape(len(integer_encoded),1)),columns=[label_encoder.classes_]) # convering it as dataframe"
   ]
  },
  {
   "cell_type": "code",
   "execution_count": 12,
   "metadata": {},
   "outputs": [
    {
     "data": {
      "text/html": [
       "<div>\n",
       "<style scoped>\n",
       "    .dataframe tbody tr th:only-of-type {\n",
       "        vertical-align: middle;\n",
       "    }\n",
       "\n",
       "    .dataframe tbody tr th {\n",
       "        vertical-align: top;\n",
       "    }\n",
       "\n",
       "    .dataframe thead tr th {\n",
       "        text-align: left;\n",
       "    }\n",
       "</style>\n",
       "<table border=\"1\" class=\"dataframe\">\n",
       "  <thead>\n",
       "    <tr>\n",
       "      <th></th>\n",
       "      <th>AgriculturalandBiologicalSciences</th>\n",
       "      <th>Biochemistry,GeneticsandMolecularBiology</th>\n",
       "      <th>Chemistry</th>\n",
       "      <th>EnvironmentalScience</th>\n",
       "      <th>ImmunologyandMicrobiology</th>\n",
       "      <th>Neuroscience</th>\n",
       "      <th>engineering</th>\n",
       "    </tr>\n",
       "  </thead>\n",
       "  <tbody>\n",
       "    <tr>\n",
       "      <th>0</th>\n",
       "      <td>0.0</td>\n",
       "      <td>0.0</td>\n",
       "      <td>0.0</td>\n",
       "      <td>1.0</td>\n",
       "      <td>0.0</td>\n",
       "      <td>0.0</td>\n",
       "      <td>0.0</td>\n",
       "    </tr>\n",
       "    <tr>\n",
       "      <th>1</th>\n",
       "      <td>0.0</td>\n",
       "      <td>0.0</td>\n",
       "      <td>0.0</td>\n",
       "      <td>1.0</td>\n",
       "      <td>0.0</td>\n",
       "      <td>0.0</td>\n",
       "      <td>0.0</td>\n",
       "    </tr>\n",
       "    <tr>\n",
       "      <th>2</th>\n",
       "      <td>0.0</td>\n",
       "      <td>1.0</td>\n",
       "      <td>0.0</td>\n",
       "      <td>0.0</td>\n",
       "      <td>0.0</td>\n",
       "      <td>0.0</td>\n",
       "      <td>0.0</td>\n",
       "    </tr>\n",
       "    <tr>\n",
       "      <th>3</th>\n",
       "      <td>0.0</td>\n",
       "      <td>1.0</td>\n",
       "      <td>0.0</td>\n",
       "      <td>0.0</td>\n",
       "      <td>0.0</td>\n",
       "      <td>0.0</td>\n",
       "      <td>0.0</td>\n",
       "    </tr>\n",
       "    <tr>\n",
       "      <th>4</th>\n",
       "      <td>1.0</td>\n",
       "      <td>0.0</td>\n",
       "      <td>0.0</td>\n",
       "      <td>0.0</td>\n",
       "      <td>0.0</td>\n",
       "      <td>0.0</td>\n",
       "      <td>0.0</td>\n",
       "    </tr>\n",
       "  </tbody>\n",
       "</table>\n",
       "</div>"
      ],
      "text/plain": [
       "  AgriculturalandBiologicalSciences Biochemistry,GeneticsandMolecularBiology  \\\n",
       "0                               0.0                                      0.0   \n",
       "1                               0.0                                      0.0   \n",
       "2                               0.0                                      1.0   \n",
       "3                               0.0                                      1.0   \n",
       "4                               1.0                                      0.0   \n",
       "\n",
       "  Chemistry EnvironmentalScience ImmunologyandMicrobiology Neuroscience  \\\n",
       "0       0.0                  1.0                       0.0          0.0   \n",
       "1       0.0                  1.0                       0.0          0.0   \n",
       "2       0.0                  0.0                       0.0          0.0   \n",
       "3       0.0                  0.0                       0.0          0.0   \n",
       "4       0.0                  0.0                       0.0          0.0   \n",
       "\n",
       "  engineering  \n",
       "0         0.0  \n",
       "1         0.0  \n",
       "2         0.0  \n",
       "3         0.0  \n",
       "4         0.0  "
      ]
     },
     "execution_count": 12,
     "metadata": {},
     "output_type": "execute_result"
    }
   ],
   "source": [
    "sub_category.head()"
   ]
  },
  {
   "cell_type": "code",
   "execution_count": 13,
   "metadata": {},
   "outputs": [
    {
     "data": {
      "text/plain": [
       "(230, 27943)"
      ]
     },
     "execution_count": 13,
     "metadata": {},
     "output_type": "execute_result"
    }
   ],
   "source": [
    "tf_idf_op=tf_idf_op.toarray()   # actually tf_idf_op in  csr_ form but megre funciton does not accept it so we have to make it as ana rray \n",
    "tf_idf_op.shape\n"
   ]
  },
  {
   "cell_type": "code",
   "execution_count": 14,
   "metadata": {},
   "outputs": [],
   "source": [
    "tf_idf_output=pd.DataFrame(tf_idf_op,columns=tfidf.vocabulary_) # convertingtf_idf vectorization to dataframe"
   ]
  },
  {
   "cell_type": "code",
   "execution_count": 15,
   "metadata": {},
   "outputs": [
    {
     "data": {
      "text/html": [
       "<div>\n",
       "<style scoped>\n",
       "    .dataframe tbody tr th:only-of-type {\n",
       "        vertical-align: middle;\n",
       "    }\n",
       "\n",
       "    .dataframe tbody tr th {\n",
       "        vertical-align: top;\n",
       "    }\n",
       "\n",
       "    .dataframe thead th {\n",
       "        text-align: right;\n",
       "    }\n",
       "</style>\n",
       "<table border=\"1\" class=\"dataframe\">\n",
       "  <thead>\n",
       "    <tr style=\"text-align: right;\">\n",
       "      <th></th>\n",
       "      <th>repeated</th>\n",
       "      <th>wi</th>\n",
       "      <th>fi</th>\n",
       "      <th>studies</th>\n",
       "      <th>causes</th>\n",
       "      <th>oxidative</th>\n",
       "      <th>stress</th>\n",
       "      <th>sperm</th>\n",
       "      <th>testicular</th>\n",
       "      <th>damage</th>\n",
       "      <th>...</th>\n",
       "      <th>coarsely homogenized</th>\n",
       "      <th>homogenized raw</th>\n",
       "      <th>raw consumable</th>\n",
       "      <th>tissues quantified</th>\n",
       "      <th>quantified work</th>\n",
       "      <th>work needed</th>\n",
       "      <th>needed test</th>\n",
       "      <th>test viability</th>\n",
       "      <th>viability ed</th>\n",
       "      <th>xrf calibrations</th>\n",
       "    </tr>\n",
       "  </thead>\n",
       "  <tbody>\n",
       "    <tr>\n",
       "      <th>0</th>\n",
       "      <td>0.000000</td>\n",
       "      <td>0.0</td>\n",
       "      <td>0.000000</td>\n",
       "      <td>0.0</td>\n",
       "      <td>0.0</td>\n",
       "      <td>0.0</td>\n",
       "      <td>0.0</td>\n",
       "      <td>0.0</td>\n",
       "      <td>0.0</td>\n",
       "      <td>0.0</td>\n",
       "      <td>...</td>\n",
       "      <td>0.0</td>\n",
       "      <td>0.0</td>\n",
       "      <td>0.0</td>\n",
       "      <td>0.0</td>\n",
       "      <td>0.0</td>\n",
       "      <td>0.0</td>\n",
       "      <td>0.0</td>\n",
       "      <td>0.0</td>\n",
       "      <td>0.0</td>\n",
       "      <td>0.0</td>\n",
       "    </tr>\n",
       "    <tr>\n",
       "      <th>1</th>\n",
       "      <td>0.000000</td>\n",
       "      <td>0.0</td>\n",
       "      <td>0.000000</td>\n",
       "      <td>0.0</td>\n",
       "      <td>0.0</td>\n",
       "      <td>0.0</td>\n",
       "      <td>0.0</td>\n",
       "      <td>0.0</td>\n",
       "      <td>0.0</td>\n",
       "      <td>0.0</td>\n",
       "      <td>...</td>\n",
       "      <td>0.0</td>\n",
       "      <td>0.0</td>\n",
       "      <td>0.0</td>\n",
       "      <td>0.0</td>\n",
       "      <td>0.0</td>\n",
       "      <td>0.0</td>\n",
       "      <td>0.0</td>\n",
       "      <td>0.0</td>\n",
       "      <td>0.0</td>\n",
       "      <td>0.0</td>\n",
       "    </tr>\n",
       "    <tr>\n",
       "      <th>2</th>\n",
       "      <td>0.036341</td>\n",
       "      <td>0.0</td>\n",
       "      <td>0.041323</td>\n",
       "      <td>0.0</td>\n",
       "      <td>0.0</td>\n",
       "      <td>0.0</td>\n",
       "      <td>0.0</td>\n",
       "      <td>0.0</td>\n",
       "      <td>0.0</td>\n",
       "      <td>0.0</td>\n",
       "      <td>...</td>\n",
       "      <td>0.0</td>\n",
       "      <td>0.0</td>\n",
       "      <td>0.0</td>\n",
       "      <td>0.0</td>\n",
       "      <td>0.0</td>\n",
       "      <td>0.0</td>\n",
       "      <td>0.0</td>\n",
       "      <td>0.0</td>\n",
       "      <td>0.0</td>\n",
       "      <td>0.0</td>\n",
       "    </tr>\n",
       "    <tr>\n",
       "      <th>3</th>\n",
       "      <td>0.000000</td>\n",
       "      <td>0.0</td>\n",
       "      <td>0.000000</td>\n",
       "      <td>0.0</td>\n",
       "      <td>0.0</td>\n",
       "      <td>0.0</td>\n",
       "      <td>0.0</td>\n",
       "      <td>0.0</td>\n",
       "      <td>0.0</td>\n",
       "      <td>0.0</td>\n",
       "      <td>...</td>\n",
       "      <td>0.0</td>\n",
       "      <td>0.0</td>\n",
       "      <td>0.0</td>\n",
       "      <td>0.0</td>\n",
       "      <td>0.0</td>\n",
       "      <td>0.0</td>\n",
       "      <td>0.0</td>\n",
       "      <td>0.0</td>\n",
       "      <td>0.0</td>\n",
       "      <td>0.0</td>\n",
       "    </tr>\n",
       "    <tr>\n",
       "      <th>4</th>\n",
       "      <td>0.000000</td>\n",
       "      <td>0.0</td>\n",
       "      <td>0.000000</td>\n",
       "      <td>0.0</td>\n",
       "      <td>0.0</td>\n",
       "      <td>0.0</td>\n",
       "      <td>0.0</td>\n",
       "      <td>0.0</td>\n",
       "      <td>0.0</td>\n",
       "      <td>0.0</td>\n",
       "      <td>...</td>\n",
       "      <td>0.0</td>\n",
       "      <td>0.0</td>\n",
       "      <td>0.0</td>\n",
       "      <td>0.0</td>\n",
       "      <td>0.0</td>\n",
       "      <td>0.0</td>\n",
       "      <td>0.0</td>\n",
       "      <td>0.0</td>\n",
       "      <td>0.0</td>\n",
       "      <td>0.0</td>\n",
       "    </tr>\n",
       "  </tbody>\n",
       "</table>\n",
       "<p>5 rows × 27943 columns</p>\n",
       "</div>"
      ],
      "text/plain": [
       "   repeated   wi        fi  studies  causes  oxidative  stress  sperm  \\\n",
       "0  0.000000  0.0  0.000000      0.0     0.0        0.0     0.0    0.0   \n",
       "1  0.000000  0.0  0.000000      0.0     0.0        0.0     0.0    0.0   \n",
       "2  0.036341  0.0  0.041323      0.0     0.0        0.0     0.0    0.0   \n",
       "3  0.000000  0.0  0.000000      0.0     0.0        0.0     0.0    0.0   \n",
       "4  0.000000  0.0  0.000000      0.0     0.0        0.0     0.0    0.0   \n",
       "\n",
       "   testicular  damage        ...         coarsely homogenized  \\\n",
       "0         0.0     0.0        ...                          0.0   \n",
       "1         0.0     0.0        ...                          0.0   \n",
       "2         0.0     0.0        ...                          0.0   \n",
       "3         0.0     0.0        ...                          0.0   \n",
       "4         0.0     0.0        ...                          0.0   \n",
       "\n",
       "   homogenized raw  raw consumable  tissues quantified  quantified work  \\\n",
       "0              0.0             0.0                 0.0              0.0   \n",
       "1              0.0             0.0                 0.0              0.0   \n",
       "2              0.0             0.0                 0.0              0.0   \n",
       "3              0.0             0.0                 0.0              0.0   \n",
       "4              0.0             0.0                 0.0              0.0   \n",
       "\n",
       "   work needed  needed test  test viability  viability ed  xrf calibrations  \n",
       "0          0.0          0.0             0.0           0.0               0.0  \n",
       "1          0.0          0.0             0.0           0.0               0.0  \n",
       "2          0.0          0.0             0.0           0.0               0.0  \n",
       "3          0.0          0.0             0.0           0.0               0.0  \n",
       "4          0.0          0.0             0.0           0.0               0.0  \n",
       "\n",
       "[5 rows x 27943 columns]"
      ]
     },
     "execution_count": 15,
     "metadata": {},
     "output_type": "execute_result"
    }
   ],
   "source": [
    "tf_idf_output.head()"
   ]
  },
  {
   "cell_type": "code",
   "execution_count": 16,
   "metadata": {},
   "outputs": [
    {
     "name": "stdout",
     "output_type": "stream",
     "text": [
      "     repeated   wi        fi   studies  causes  oxidative    stress     sperm  \\\n",
      "0    0.000000  0.0  0.000000  0.000000     0.0        0.0  0.000000  0.000000   \n",
      "1    0.000000  0.0  0.000000  0.000000     0.0        0.0  0.000000  0.000000   \n",
      "2    0.036341  0.0  0.041323  0.000000     0.0        0.0  0.000000  0.000000   \n",
      "3    0.000000  0.0  0.000000  0.000000     0.0        0.0  0.000000  0.000000   \n",
      "4    0.000000  0.0  0.000000  0.000000     0.0        0.0  0.000000  0.000000   \n",
      "5    0.000000  0.0  0.000000  0.000000     0.0        0.0  0.000000  0.000000   \n",
      "6    0.000000  0.0  0.000000  0.000000     0.0        0.0  0.000000  0.000000   \n",
      "7    0.000000  0.0  0.000000  0.000000     0.0        0.0  0.000000  0.000000   \n",
      "8    0.000000  0.0  0.000000  0.000000     0.0        0.0  0.000000  0.000000   \n",
      "9    0.000000  0.0  0.000000  0.000000     0.0        0.0  0.000000  0.000000   \n",
      "10   0.000000  0.0  0.000000  0.000000     0.0        0.0  0.000000  0.000000   \n",
      "11   0.000000  0.0  0.000000  0.000000     0.0        0.0  0.000000  0.000000   \n",
      "12   0.000000  0.0  0.000000  0.000000     0.0        0.0  0.000000  0.000000   \n",
      "13   0.000000  0.0  0.000000  0.000000     0.0        0.0  0.000000  0.000000   \n",
      "14   0.000000  0.0  0.000000  0.000000     0.0        0.0  0.000000  0.000000   \n",
      "15   0.000000  0.0  0.000000  0.000000     0.0        0.0  0.000000  0.000000   \n",
      "16   0.000000  0.0  0.000000  0.000000     0.0        0.0  0.000000  0.000000   \n",
      "17   0.000000  0.0  0.000000  0.000000     0.0        0.0  0.000000  0.000000   \n",
      "18   0.000000  0.0  0.000000  0.000000     0.0        0.0  0.000000  0.000000   \n",
      "19   0.000000  0.0  0.000000  0.000000     0.0        0.0  0.000000  0.000000   \n",
      "20   0.000000  0.0  0.000000  0.000000     0.0        0.0  0.000000  0.000000   \n",
      "21   0.000000  0.0  0.000000  0.000000     0.0        0.0  0.000000  0.000000   \n",
      "22   0.000000  0.0  0.000000  0.000000     0.0        0.0  0.000000  0.000000   \n",
      "23   0.000000  0.0  0.000000  0.000000     0.0        0.0  0.044361  0.044361   \n",
      "24   0.000000  0.0  0.000000  0.000000     0.0        0.0  0.000000  0.000000   \n",
      "25   0.000000  0.0  0.000000  0.000000     0.0        0.0  0.000000  0.000000   \n",
      "26   0.000000  0.0  0.000000  0.000000     0.0        0.0  0.000000  0.000000   \n",
      "27   0.000000  0.0  0.000000  0.000000     0.0        0.0  0.000000  0.000000   \n",
      "28   0.000000  0.0  0.000000  0.000000     0.0        0.0  0.000000  0.000000   \n",
      "29   0.000000  0.0  0.000000  0.000000     0.0        0.0  0.000000  0.000000   \n",
      "..        ...  ...       ...       ...     ...        ...       ...       ...   \n",
      "200  0.000000  0.0  0.000000  0.000000     0.0        0.0  0.000000  0.000000   \n",
      "201  0.000000  0.0  0.000000  0.000000     0.0        0.0  0.000000  0.000000   \n",
      "202  0.000000  0.0  0.000000  0.000000     0.0        0.0  0.000000  0.000000   \n",
      "203  0.000000  0.0  0.000000  0.000000     0.0        0.0  0.000000  0.000000   \n",
      "204  0.000000  0.0  0.000000  0.000000     0.0        0.0  0.000000  0.000000   \n",
      "205  0.000000  0.0  0.000000  0.000000     0.0        0.0  0.000000  0.000000   \n",
      "206  0.000000  0.0  0.000000  0.000000     0.0        0.0  0.000000  0.000000   \n",
      "207  0.000000  0.0  0.000000  0.000000     0.0        0.0  0.000000  0.000000   \n",
      "208  0.000000  0.0  0.000000  0.000000     0.0        0.0  0.000000  0.000000   \n",
      "209  0.000000  0.0  0.000000  0.000000     0.0        0.0  0.000000  0.000000   \n",
      "210  0.000000  0.0  0.000000  0.000000     0.0        0.0  0.000000  0.000000   \n",
      "211  0.000000  0.0  0.000000  0.000000     0.0        0.0  0.000000  0.000000   \n",
      "212  0.000000  0.0  0.000000  0.000000     0.0        0.0  0.000000  0.000000   \n",
      "213  0.123532  0.0  0.000000  0.140468     0.0        0.0  0.000000  0.000000   \n",
      "214  0.000000  0.0  0.000000  0.000000     0.0        0.0  0.000000  0.000000   \n",
      "215  0.000000  0.0  0.000000  0.000000     0.0        0.0  0.000000  0.000000   \n",
      "216  0.000000  0.0  0.000000  0.000000     0.0        0.0  0.000000  0.000000   \n",
      "217  0.000000  0.0  0.000000  0.000000     0.0        0.0  0.000000  0.000000   \n",
      "218  0.000000  0.0  0.000000  0.000000     0.0        0.0  0.000000  0.000000   \n",
      "219  0.000000  0.0  0.000000  0.000000     0.0        0.0  0.000000  0.000000   \n",
      "220  0.000000  0.0  0.000000  0.000000     0.0        0.0  0.000000  0.000000   \n",
      "221  0.000000  0.0  0.000000  0.000000     0.0        0.0  0.000000  0.000000   \n",
      "222  0.000000  0.0  0.000000  0.000000     0.0        0.0  0.000000  0.000000   \n",
      "223  0.000000  0.0  0.000000  0.000000     0.0        0.0  0.000000  0.000000   \n",
      "224  0.000000  0.0  0.000000  0.000000     0.0        0.0  0.000000  0.000000   \n",
      "225  0.000000  0.0  0.000000  0.000000     0.0        0.0  0.000000  0.000000   \n",
      "226  0.000000  0.0  0.000000  0.000000     0.0        0.0  0.000000  0.000000   \n",
      "227  0.000000  0.0  0.000000  0.000000     0.0        0.0  0.000000  0.000000   \n",
      "228  0.000000  0.0  0.000000  0.000000     0.0        0.0  0.000000  0.000000   \n",
      "229  0.000000  0.0  0.000000  0.000000     0.0        0.0  0.000000  0.000000   \n",
      "\n",
      "     testicular  damage        ...         coarsely homogenized  \\\n",
      "0           0.0     0.0        ...                          0.0   \n",
      "1           0.0     0.0        ...                          0.0   \n",
      "2           0.0     0.0        ...                          0.0   \n",
      "3           0.0     0.0        ...                          0.0   \n",
      "4           0.0     0.0        ...                          0.0   \n",
      "5           0.0     0.0        ...                          0.0   \n",
      "6           0.0     0.0        ...                          0.0   \n",
      "7           0.0     0.0        ...                          0.0   \n",
      "8           0.0     0.0        ...                          0.0   \n",
      "9           0.0     0.0        ...                          0.0   \n",
      "10          0.0     0.0        ...                          0.0   \n",
      "11          0.0     0.0        ...                          0.0   \n",
      "12          0.0     0.0        ...                          0.0   \n",
      "13          0.0     0.0        ...                          0.0   \n",
      "14          0.0     0.0        ...                          0.0   \n",
      "15          0.0     0.0        ...                          0.0   \n",
      "16          0.0     0.0        ...                          0.0   \n",
      "17          0.0     0.0        ...                          0.0   \n",
      "18          0.0     0.0        ...                          0.0   \n",
      "19          0.0     0.0        ...                          0.0   \n",
      "20          0.0     0.0        ...                          0.0   \n",
      "21          0.0     0.0        ...                          0.0   \n",
      "22          0.0     0.0        ...                          0.0   \n",
      "23          0.0     0.0        ...                          0.0   \n",
      "24          0.0     0.0        ...                          0.0   \n",
      "25          0.0     0.0        ...                          0.0   \n",
      "26          0.0     0.0        ...                          0.0   \n",
      "27          0.0     0.0        ...                          0.0   \n",
      "28          0.0     0.0        ...                          0.0   \n",
      "29          0.0     0.0        ...                          0.0   \n",
      "..          ...     ...        ...                          ...   \n",
      "200         0.0     0.0        ...                          0.0   \n",
      "201         0.0     0.0        ...                          0.0   \n",
      "202         0.0     0.0        ...                          0.0   \n",
      "203         0.0     0.0        ...                          0.0   \n",
      "204         0.0     0.0        ...                          0.0   \n",
      "205         0.0     0.0        ...                          0.0   \n",
      "206         0.0     0.0        ...                          0.0   \n",
      "207         0.0     0.0        ...                          0.0   \n",
      "208         0.0     0.0        ...                          0.0   \n",
      "209         0.0     0.0        ...                          0.0   \n",
      "210         0.0     0.0        ...                          0.0   \n",
      "211         0.0     0.0        ...                          0.0   \n",
      "212         0.0     0.0        ...                          0.0   \n",
      "213         0.0     0.0        ...                          0.0   \n",
      "214         0.0     0.0        ...                          0.0   \n",
      "215         0.0     0.0        ...                          0.0   \n",
      "216         0.0     0.0        ...                          0.0   \n",
      "217         0.0     0.0        ...                          0.0   \n",
      "218         0.0     0.0        ...                          0.0   \n",
      "219         0.0     0.0        ...                          0.0   \n",
      "220         0.0     0.0        ...                          0.0   \n",
      "221         0.0     0.0        ...                          0.0   \n",
      "222         0.0     0.0        ...                          0.0   \n",
      "223         0.0     0.0        ...                          0.0   \n",
      "224         0.0     0.0        ...                          0.0   \n",
      "225         0.0     0.0        ...                          0.0   \n",
      "226         0.0     0.0        ...                          0.0   \n",
      "227         0.0     0.0        ...                          0.0   \n",
      "228         0.0     0.0        ...                          0.0   \n",
      "229         0.0     0.0        ...                          0.0   \n",
      "\n",
      "     homogenized raw  raw consumable  tissues quantified  quantified work  \\\n",
      "0                0.0             0.0                 0.0              0.0   \n",
      "1                0.0             0.0                 0.0              0.0   \n",
      "2                0.0             0.0                 0.0              0.0   \n",
      "3                0.0             0.0                 0.0              0.0   \n",
      "4                0.0             0.0                 0.0              0.0   \n",
      "5                0.0             0.0                 0.0              0.0   \n",
      "6                0.0             0.0                 0.0              0.0   \n",
      "7                0.0             0.0                 0.0              0.0   \n",
      "8                0.0             0.0                 0.0              0.0   \n",
      "9                0.0             0.0                 0.0              0.0   \n",
      "10               0.0             0.0                 0.0              0.0   \n",
      "11               0.0             0.0                 0.0              0.0   \n",
      "12               0.0             0.0                 0.0              0.0   \n",
      "13               0.0             0.0                 0.0              0.0   \n",
      "14               0.0             0.0                 0.0              0.0   \n",
      "15               0.0             0.0                 0.0              0.0   \n",
      "16               0.0             0.0                 0.0              0.0   \n",
      "17               0.0             0.0                 0.0              0.0   \n",
      "18               0.0             0.0                 0.0              0.0   \n",
      "19               0.0             0.0                 0.0              0.0   \n",
      "20               0.0             0.0                 0.0              0.0   \n",
      "21               0.0             0.0                 0.0              0.0   \n",
      "22               0.0             0.0                 0.0              0.0   \n",
      "23               0.0             0.0                 0.0              0.0   \n",
      "24               0.0             0.0                 0.0              0.0   \n",
      "25               0.0             0.0                 0.0              0.0   \n",
      "26               0.0             0.0                 0.0              0.0   \n",
      "27               0.0             0.0                 0.0              0.0   \n",
      "28               0.0             0.0                 0.0              0.0   \n",
      "29               0.0             0.0                 0.0              0.0   \n",
      "..               ...             ...                 ...              ...   \n",
      "200              0.0             0.0                 0.0              0.0   \n",
      "201              0.0             0.0                 0.0              0.0   \n",
      "202              0.0             0.0                 0.0              0.0   \n",
      "203              0.0             0.0                 0.0              0.0   \n",
      "204              0.0             0.0                 0.0              0.0   \n",
      "205              0.0             0.0                 0.0              0.0   \n",
      "206              0.0             0.0                 0.0              0.0   \n",
      "207              0.0             0.0                 0.0              0.0   \n",
      "208              0.0             0.0                 0.0              0.0   \n",
      "209              0.0             0.0                 0.0              0.0   \n",
      "210              0.0             0.0                 0.0              0.0   \n",
      "211              0.0             0.0                 0.0              0.0   \n",
      "212              0.0             0.0                 0.0              0.0   \n",
      "213              0.0             0.0                 0.0              0.0   \n",
      "214              0.0             0.0                 0.0              0.0   \n",
      "215              0.0             0.0                 0.0              0.0   \n",
      "216              0.0             0.0                 0.0              0.0   \n",
      "217              0.0             0.0                 0.0              0.0   \n",
      "218              0.0             0.0                 0.0              0.0   \n",
      "219              0.0             0.0                 0.0              0.0   \n",
      "220              0.0             0.0                 0.0              0.0   \n",
      "221              0.0             0.0                 0.0              0.0   \n",
      "222              0.0             0.0                 0.0              0.0   \n",
      "223              0.0             0.0                 0.0              0.0   \n",
      "224              0.0             0.0                 0.0              0.0   \n",
      "225              0.0             0.0                 0.0              0.0   \n",
      "226              0.0             0.0                 0.0              0.0   \n",
      "227              0.0             0.0                 0.0              0.0   \n",
      "228              0.0             0.0                 0.0              0.0   \n",
      "229              0.0             0.0                 0.0              0.0   \n",
      "\n",
      "     work needed  needed test  test viability  viability ed  xrf calibrations  \n",
      "0            0.0          0.0             0.0           0.0               0.0  \n",
      "1            0.0          0.0             0.0           0.0               0.0  \n",
      "2            0.0          0.0             0.0           0.0               0.0  \n",
      "3            0.0          0.0             0.0           0.0               0.0  \n",
      "4            0.0          0.0             0.0           0.0               0.0  \n",
      "5            0.0          0.0             0.0           0.0               0.0  \n",
      "6            0.0          0.0             0.0           0.0               0.0  \n",
      "7            0.0          0.0             0.0           0.0               0.0  \n",
      "8            0.0          0.0             0.0           0.0               0.0  \n",
      "9            0.0          0.0             0.0           0.0               0.0  \n",
      "10           0.0          0.0             0.0           0.0               0.0  \n",
      "11           0.0          0.0             0.0           0.0               0.0  \n",
      "12           0.0          0.0             0.0           0.0               0.0  \n",
      "13           0.0          0.0             0.0           0.0               0.0  \n",
      "14           0.0          0.0             0.0           0.0               0.0  \n",
      "15           0.0          0.0             0.0           0.0               0.0  \n",
      "16           0.0          0.0             0.0           0.0               0.0  \n",
      "17           0.0          0.0             0.0           0.0               0.0  \n",
      "18           0.0          0.0             0.0           0.0               0.0  \n",
      "19           0.0          0.0             0.0           0.0               0.0  \n",
      "20           0.0          0.0             0.0           0.0               0.0  \n",
      "21           0.0          0.0             0.0           0.0               0.0  \n",
      "22           0.0          0.0             0.0           0.0               0.0  \n",
      "23           0.0          0.0             0.0           0.0               0.0  \n",
      "24           0.0          0.0             0.0           0.0               0.0  \n",
      "25           0.0          0.0             0.0           0.0               0.0  \n",
      "26           0.0          0.0             0.0           0.0               0.0  \n",
      "27           0.0          0.0             0.0           0.0               0.0  \n",
      "28           0.0          0.0             0.0           0.0               0.0  \n",
      "29           0.0          0.0             0.0           0.0               0.0  \n",
      "..           ...          ...             ...           ...               ...  \n",
      "200          0.0          0.0             0.0           0.0               0.0  \n",
      "201          0.0          0.0             0.0           0.0               0.0  \n",
      "202          0.0          0.0             0.0           0.0               0.0  \n",
      "203          0.0          0.0             0.0           0.0               0.0  \n",
      "204          0.0          0.0             0.0           0.0               0.0  \n",
      "205          0.0          0.0             0.0           0.0               0.0  \n",
      "206          0.0          0.0             0.0           0.0               0.0  \n",
      "207          0.0          0.0             0.0           0.0               0.0  \n",
      "208          0.0          0.0             0.0           0.0               0.0  \n",
      "209          0.0          0.0             0.0           0.0               0.0  \n",
      "210          0.0          0.0             0.0           0.0               0.0  \n",
      "211          0.0          0.0             0.0           0.0               0.0  \n",
      "212          0.0          0.0             0.0           0.0               0.0  \n",
      "213          0.0          0.0             0.0           0.0               0.0  \n",
      "214          0.0          0.0             0.0           0.0               0.0  \n",
      "215          0.0          0.0             0.0           0.0               0.0  \n",
      "216          0.0          0.0             0.0           0.0               0.0  \n",
      "217          0.0          0.0             0.0           0.0               0.0  \n",
      "218          0.0          0.0             0.0           0.0               0.0  \n",
      "219          0.0          0.0             0.0           0.0               0.0  \n",
      "220          0.0          0.0             0.0           0.0               0.0  \n",
      "221          0.0          0.0             0.0           0.0               0.0  \n",
      "222          0.0          0.0             0.0           0.0               0.0  \n",
      "223          0.0          0.0             0.0           0.0               0.0  \n",
      "224          0.0          0.0             0.0           0.0               0.0  \n",
      "225          0.0          0.0             0.0           0.0               0.0  \n",
      "226          0.0          0.0             0.0           0.0               0.0  \n",
      "227          0.0          0.0             0.0           0.0               0.0  \n",
      "228          0.0          0.0             0.0           0.0               0.0  \n",
      "229          0.0          0.0             0.0           0.0               0.0  \n",
      "\n",
      "[230 rows x 27943 columns]\n"
     ]
    }
   ],
   "source": [
    "x = tf_idf_output\n",
    "print(x)"
   ]
  },
  {
   "cell_type": "code",
   "execution_count": 17,
   "metadata": {},
   "outputs": [
    {
     "name": "stdout",
     "output_type": "stream",
     "text": [
      "0          Life Sciences\n",
      "1          Life Sciences\n",
      "2          Life Sciences\n",
      "3          Life Sciences\n",
      "4          Life Sciences\n",
      "5          Life Sciences\n",
      "6          Life Sciences\n",
      "7          Life Sciences\n",
      "8          Life Sciences\n",
      "9          Life Sciences\n",
      "10         Life Sciences\n",
      "11         Life Sciences\n",
      "12         Life Sciences\n",
      "13         Life Sciences\n",
      "14         Life Sciences\n",
      "15         Life Sciences\n",
      "16         Life Sciences\n",
      "17         Life Sciences\n",
      "18         Life Sciences\n",
      "19         Life Sciences\n",
      "20         Life Sciences\n",
      "21         Life Sciences\n",
      "22         Life Sciences\n",
      "23         Life Sciences\n",
      "24         Life Sciences\n",
      "25         Life Sciences\n",
      "26         Life Sciences\n",
      "27         Life Sciences\n",
      "28         Life Sciences\n",
      "29         Life Sciences\n",
      "             ...        \n",
      "200    physical_sciences\n",
      "201    physical_sciences\n",
      "202    physical_sciences\n",
      "203    physical_sciences\n",
      "204    physical_sciences\n",
      "205    physical_sciences\n",
      "206    physical_sciences\n",
      "207    physical_sciences\n",
      "208    physical_sciences\n",
      "209    physical_sciences\n",
      "210    physical_sciences\n",
      "211    physical_sciences\n",
      "212    physical_sciences\n",
      "213    physical_sciences\n",
      "214    physical_sciences\n",
      "215    physical_sciences\n",
      "216    physical_sciences\n",
      "217    physical_sciences\n",
      "218    physical_sciences\n",
      "219    physical_sciences\n",
      "220    physical_sciences\n",
      "221    physical_sciences\n",
      "222    physical_sciences\n",
      "223    physical_sciences\n",
      "224    physical_sciences\n",
      "225    physical_sciences\n",
      "226    physical_sciences\n",
      "227    physical_sciences\n",
      "228    physical_sciences\n",
      "229    physical_sciences\n",
      "Name: Topic, Length: 230, dtype: object\n"
     ]
    }
   ],
   "source": [
    "y=data['Topic']   # whcih is y_label\n",
    "print(y)"
   ]
  },
  {
   "cell_type": "code",
   "execution_count": 18,
   "metadata": {},
   "outputs": [],
   "source": [
    "#import numpy as np\n",
    "\n",
    "final_data=pd.concat([sub_category, tf_idf_output], axis=1, sort=False)   # here we are merging two dataframes \n",
    "\n"
   ]
  },
  {
   "cell_type": "code",
   "execution_count": 19,
   "metadata": {},
   "outputs": [],
   "source": [
    "final_data=pd.concat([y,sub_category, tf_idf_output], axis=1, sort=False)   # here we are merging two dataframes"
   ]
  },
  {
   "cell_type": "code",
   "execution_count": 20,
   "metadata": {},
   "outputs": [
    {
     "data": {
      "text/plain": [
       "(230, 27951)"
      ]
     },
     "execution_count": 20,
     "metadata": {},
     "output_type": "execute_result"
    }
   ],
   "source": [
    "final_data.shape # which is x_data"
   ]
  },
  {
   "cell_type": "code",
   "execution_count": 21,
   "metadata": {},
   "outputs": [
    {
     "data": {
      "text/html": [
       "<div>\n",
       "<style scoped>\n",
       "    .dataframe tbody tr th:only-of-type {\n",
       "        vertical-align: middle;\n",
       "    }\n",
       "\n",
       "    .dataframe tbody tr th {\n",
       "        vertical-align: top;\n",
       "    }\n",
       "\n",
       "    .dataframe thead th {\n",
       "        text-align: right;\n",
       "    }\n",
       "</style>\n",
       "<table border=\"1\" class=\"dataframe\">\n",
       "  <thead>\n",
       "    <tr style=\"text-align: right;\">\n",
       "      <th></th>\n",
       "      <th>Topic</th>\n",
       "      <th>(AgriculturalandBiologicalSciences,)</th>\n",
       "      <th>(Biochemistry,GeneticsandMolecularBiology,)</th>\n",
       "      <th>(Chemistry,)</th>\n",
       "      <th>(EnvironmentalScience,)</th>\n",
       "      <th>(ImmunologyandMicrobiology,)</th>\n",
       "      <th>(Neuroscience,)</th>\n",
       "      <th>(engineering,)</th>\n",
       "      <th>repeated</th>\n",
       "      <th>wi</th>\n",
       "      <th>...</th>\n",
       "      <th>coarsely homogenized</th>\n",
       "      <th>homogenized raw</th>\n",
       "      <th>raw consumable</th>\n",
       "      <th>tissues quantified</th>\n",
       "      <th>quantified work</th>\n",
       "      <th>work needed</th>\n",
       "      <th>needed test</th>\n",
       "      <th>test viability</th>\n",
       "      <th>viability ed</th>\n",
       "      <th>xrf calibrations</th>\n",
       "    </tr>\n",
       "  </thead>\n",
       "  <tbody>\n",
       "    <tr>\n",
       "      <th>0</th>\n",
       "      <td>Life Sciences</td>\n",
       "      <td>0.0</td>\n",
       "      <td>0.0</td>\n",
       "      <td>0.0</td>\n",
       "      <td>1.0</td>\n",
       "      <td>0.0</td>\n",
       "      <td>0.0</td>\n",
       "      <td>0.0</td>\n",
       "      <td>0.000000</td>\n",
       "      <td>0.0</td>\n",
       "      <td>...</td>\n",
       "      <td>0.0</td>\n",
       "      <td>0.0</td>\n",
       "      <td>0.0</td>\n",
       "      <td>0.0</td>\n",
       "      <td>0.0</td>\n",
       "      <td>0.0</td>\n",
       "      <td>0.0</td>\n",
       "      <td>0.0</td>\n",
       "      <td>0.0</td>\n",
       "      <td>0.0</td>\n",
       "    </tr>\n",
       "    <tr>\n",
       "      <th>1</th>\n",
       "      <td>Life Sciences</td>\n",
       "      <td>0.0</td>\n",
       "      <td>0.0</td>\n",
       "      <td>0.0</td>\n",
       "      <td>1.0</td>\n",
       "      <td>0.0</td>\n",
       "      <td>0.0</td>\n",
       "      <td>0.0</td>\n",
       "      <td>0.000000</td>\n",
       "      <td>0.0</td>\n",
       "      <td>...</td>\n",
       "      <td>0.0</td>\n",
       "      <td>0.0</td>\n",
       "      <td>0.0</td>\n",
       "      <td>0.0</td>\n",
       "      <td>0.0</td>\n",
       "      <td>0.0</td>\n",
       "      <td>0.0</td>\n",
       "      <td>0.0</td>\n",
       "      <td>0.0</td>\n",
       "      <td>0.0</td>\n",
       "    </tr>\n",
       "    <tr>\n",
       "      <th>2</th>\n",
       "      <td>Life Sciences</td>\n",
       "      <td>0.0</td>\n",
       "      <td>1.0</td>\n",
       "      <td>0.0</td>\n",
       "      <td>0.0</td>\n",
       "      <td>0.0</td>\n",
       "      <td>0.0</td>\n",
       "      <td>0.0</td>\n",
       "      <td>0.036341</td>\n",
       "      <td>0.0</td>\n",
       "      <td>...</td>\n",
       "      <td>0.0</td>\n",
       "      <td>0.0</td>\n",
       "      <td>0.0</td>\n",
       "      <td>0.0</td>\n",
       "      <td>0.0</td>\n",
       "      <td>0.0</td>\n",
       "      <td>0.0</td>\n",
       "      <td>0.0</td>\n",
       "      <td>0.0</td>\n",
       "      <td>0.0</td>\n",
       "    </tr>\n",
       "    <tr>\n",
       "      <th>3</th>\n",
       "      <td>Life Sciences</td>\n",
       "      <td>0.0</td>\n",
       "      <td>1.0</td>\n",
       "      <td>0.0</td>\n",
       "      <td>0.0</td>\n",
       "      <td>0.0</td>\n",
       "      <td>0.0</td>\n",
       "      <td>0.0</td>\n",
       "      <td>0.000000</td>\n",
       "      <td>0.0</td>\n",
       "      <td>...</td>\n",
       "      <td>0.0</td>\n",
       "      <td>0.0</td>\n",
       "      <td>0.0</td>\n",
       "      <td>0.0</td>\n",
       "      <td>0.0</td>\n",
       "      <td>0.0</td>\n",
       "      <td>0.0</td>\n",
       "      <td>0.0</td>\n",
       "      <td>0.0</td>\n",
       "      <td>0.0</td>\n",
       "    </tr>\n",
       "    <tr>\n",
       "      <th>4</th>\n",
       "      <td>Life Sciences</td>\n",
       "      <td>1.0</td>\n",
       "      <td>0.0</td>\n",
       "      <td>0.0</td>\n",
       "      <td>0.0</td>\n",
       "      <td>0.0</td>\n",
       "      <td>0.0</td>\n",
       "      <td>0.0</td>\n",
       "      <td>0.000000</td>\n",
       "      <td>0.0</td>\n",
       "      <td>...</td>\n",
       "      <td>0.0</td>\n",
       "      <td>0.0</td>\n",
       "      <td>0.0</td>\n",
       "      <td>0.0</td>\n",
       "      <td>0.0</td>\n",
       "      <td>0.0</td>\n",
       "      <td>0.0</td>\n",
       "      <td>0.0</td>\n",
       "      <td>0.0</td>\n",
       "      <td>0.0</td>\n",
       "    </tr>\n",
       "  </tbody>\n",
       "</table>\n",
       "<p>5 rows × 27951 columns</p>\n",
       "</div>"
      ],
      "text/plain": [
       "           Topic  (AgriculturalandBiologicalSciences,)  \\\n",
       "0  Life Sciences                                   0.0   \n",
       "1  Life Sciences                                   0.0   \n",
       "2  Life Sciences                                   0.0   \n",
       "3  Life Sciences                                   0.0   \n",
       "4  Life Sciences                                   1.0   \n",
       "\n",
       "   (Biochemistry,GeneticsandMolecularBiology,)  (Chemistry,)  \\\n",
       "0                                          0.0           0.0   \n",
       "1                                          0.0           0.0   \n",
       "2                                          1.0           0.0   \n",
       "3                                          1.0           0.0   \n",
       "4                                          0.0           0.0   \n",
       "\n",
       "   (EnvironmentalScience,)  (ImmunologyandMicrobiology,)  (Neuroscience,)  \\\n",
       "0                      1.0                           0.0              0.0   \n",
       "1                      1.0                           0.0              0.0   \n",
       "2                      0.0                           0.0              0.0   \n",
       "3                      0.0                           0.0              0.0   \n",
       "4                      0.0                           0.0              0.0   \n",
       "\n",
       "   (engineering,)  repeated   wi        ...         coarsely homogenized  \\\n",
       "0             0.0  0.000000  0.0        ...                          0.0   \n",
       "1             0.0  0.000000  0.0        ...                          0.0   \n",
       "2             0.0  0.036341  0.0        ...                          0.0   \n",
       "3             0.0  0.000000  0.0        ...                          0.0   \n",
       "4             0.0  0.000000  0.0        ...                          0.0   \n",
       "\n",
       "   homogenized raw  raw consumable  tissues quantified  quantified work  \\\n",
       "0              0.0             0.0                 0.0              0.0   \n",
       "1              0.0             0.0                 0.0              0.0   \n",
       "2              0.0             0.0                 0.0              0.0   \n",
       "3              0.0             0.0                 0.0              0.0   \n",
       "4              0.0             0.0                 0.0              0.0   \n",
       "\n",
       "   work needed  needed test  test viability  viability ed  xrf calibrations  \n",
       "0          0.0          0.0             0.0           0.0               0.0  \n",
       "1          0.0          0.0             0.0           0.0               0.0  \n",
       "2          0.0          0.0             0.0           0.0               0.0  \n",
       "3          0.0          0.0             0.0           0.0               0.0  \n",
       "4          0.0          0.0             0.0           0.0               0.0  \n",
       "\n",
       "[5 rows x 27951 columns]"
      ]
     },
     "execution_count": 21,
     "metadata": {},
     "output_type": "execute_result"
    }
   ],
   "source": [
    "final_data.head()"
   ]
  },
  {
   "cell_type": "code",
   "execution_count": null,
   "metadata": {},
   "outputs": [],
   "source": []
  },
  {
   "cell_type": "markdown",
   "metadata": {},
   "source": [
    "# Logistic Regression"
   ]
  },
  {
   "cell_type": "code",
   "execution_count": 22,
   "metadata": {},
   "outputs": [
    {
     "name": "stdout",
     "output_type": "stream",
     "text": [
      "train x_data shape is (184, 27943)\n",
      "train y_data shape is (184,)\n",
      "test x_data shape is (46, 27943)\n",
      "test y_data shape is (46,)\n"
     ]
    }
   ],
   "source": [
    "##data spiliting \n",
    "\n",
    "from sklearn.model_selection import train_test_split\n",
    "train_x,test_x,train_y,test_y=train_test_split(x,y ,test_size=0.2,random_state=101)\n",
    "print(\"train x_data shape is\",train_x.shape)\n",
    "print(\"train y_data shape is\",train_y.shape)\n",
    "print(\"test x_data shape is\",test_x.shape)\n",
    "print(\"test y_data shape is\",test_y.shape)"
   ]
  },
  {
   "cell_type": "code",
   "execution_count": 23,
   "metadata": {},
   "outputs": [
    {
     "data": {
      "text/plain": [
       "LogisticRegression(C=1.0, class_weight=None, dual=False, fit_intercept=True,\n",
       "          intercept_scaling=1, max_iter=100, multi_class='ovr', n_jobs=1,\n",
       "          penalty='l2', random_state=None, solver='liblinear', tol=0.0001,\n",
       "          verbose=0, warm_start=False)"
      ]
     },
     "execution_count": 23,
     "metadata": {},
     "output_type": "execute_result"
    }
   ],
   "source": [
    "#model training\n",
    "\n",
    "from sklearn.linear_model import LogisticRegression\n",
    "lr=LogisticRegression()\n",
    "lr.fit(train_x,train_y)"
   ]
  },
  {
   "cell_type": "code",
   "execution_count": 24,
   "metadata": {},
   "outputs": [
    {
     "name": "stdout",
     "output_type": "stream",
     "text": [
      "['Life Sciences' 'physical_sciences' 'physical_sciences' 'Life Sciences'\n",
      " 'physical_sciences' 'Life Sciences' 'Life Sciences' 'physical_sciences'\n",
      " 'Life Sciences' 'physical_sciences' 'physical_sciences' 'Health Sciences'\n",
      " 'physical_sciences' 'physical_sciences' 'physical_sciences'\n",
      " 'physical_sciences' 'Life Sciences' 'Life Sciences' 'physical_sciences'\n",
      " 'Life Sciences' 'Health Sciences' 'Life Sciences' 'physical_sciences'\n",
      " 'physical_sciences' 'Life Sciences' 'physical_sciences'\n",
      " 'physical_sciences' 'physical_sciences' 'Health Sciences'\n",
      " 'Health Sciences' 'Life Sciences' 'physical_sciences' 'physical_sciences'\n",
      " 'Life Sciences' 'physical_sciences' 'Life Sciences' 'Life Sciences'\n",
      " 'physical_sciences' 'physical_sciences' 'Life Sciences'\n",
      " 'physical_sciences' 'physical_sciences' 'Life Sciences' 'Health Sciences'\n",
      " 'physical_sciences' 'Life Sciences']\n"
     ]
    }
   ],
   "source": [
    "# model prediction for test data\n",
    "y_predicted=lr.predict(test_x)\n",
    "print(y_predicted)"
   ]
  },
  {
   "cell_type": "code",
   "execution_count": 25,
   "metadata": {},
   "outputs": [
    {
     "name": "stdout",
     "output_type": "stream",
     "text": [
      "accuracy= 0.6739130434782609\n",
      "[[ 5  6  7]\n",
      " [ 0 11  2]\n",
      " [ 0  0 15]]\n"
     ]
    }
   ],
   "source": [
    "# chekcing with performmance metrics\n",
    "from sklearn.metrics import accuracy_score,confusion_matrix\n",
    "acc_score=accuracy_score(y_pred=y_predicted,y_true=test_y)\n",
    "print(\"accuracy= {0}\".format(acc_score))\n",
    "cm=confusion_matrix(y_pred=y_predicted,y_true=test_y)\n",
    "print(cm)"
   ]
  },
  {
   "cell_type": "code",
   "execution_count": 26,
   "metadata": {},
   "outputs": [
    {
     "data": {
      "text/plain": [
       "array(['Health Sciences', 'Life Sciences', 'physical_sciences'],\n",
       "      dtype=object)"
      ]
     },
     "execution_count": 26,
     "metadata": {},
     "output_type": "execute_result"
    }
   ],
   "source": [
    "lr.classes_"
   ]
  },
  {
   "cell_type": "code",
   "execution_count": 28,
   "metadata": {},
   "outputs": [
    {
     "data": {
      "image/png": "[encoded data removed]",
      "text/plain": [
       "<Figure size 360x360 with 2 Axes>"
      ]
     },
     "metadata": {},
     "output_type": "display_data"
    }
   ],
   "source": [
    "#plotting the confuion matrix an etc.\n",
    "\n",
    "import matplotlib.pyplot as plt\n",
    "import seaborn as sns\n",
    "\n",
    "\n",
    "plt.figure(figsize=(5,5))\n",
    "sns.heatmap(cm, annot=True, fmt=\".0f\", linewidths=.8, square = True, cmap = 'Greens_r',xticklabels=lr.classes_,yticklabels=lr.classes_);\n",
    "plt.ylabel('Actual label');\n",
    "plt.xlabel('Predicted label');\n",
    "\n"
   ]
  },
  {
   "cell_type": "code",
   "execution_count": null,
   "metadata": {},
   "outputs": [],
   "source": []
  },
  {
   "cell_type": "code",
   "execution_count": null,
   "metadata": {},
   "outputs": [],
   "source": []
  },
  {
   "cell_type": "markdown",
   "metadata": {},
   "source": [
    "# SVM"
   ]
  },
  {
   "cell_type": "code",
   "execution_count": 29,
   "metadata": {},
   "outputs": [],
   "source": [
    "from sklearn.model_selection import train_test_split\n",
    "train_x,test_x,train_y,test_y=train_test_split(x,y ,test_size=0.2,random_state=101)"
   ]
  },
  {
   "cell_type": "code",
   "execution_count": 30,
   "metadata": {},
   "outputs": [
    {
     "data": {
      "text/plain": [
       "SVC(C=1.0, cache_size=200, class_weight=None, coef0=0.0,\n",
       "  decision_function_shape='ovr', degree=3, gamma='auto', kernel='linear',\n",
       "  max_iter=-1, probability=False, random_state=None, shrinking=True,\n",
       "  tol=0.001, verbose=False)"
      ]
     },
     "execution_count": 30,
     "metadata": {},
     "output_type": "execute_result"
    }
   ],
   "source": [
    "from sklearn.svm import SVC\n",
    "svclassifier = SVC(kernel='linear')\n",
    "svclassifier.fit(train_x, train_y)"
   ]
  },
  {
   "cell_type": "code",
   "execution_count": 31,
   "metadata": {},
   "outputs": [
    {
     "name": "stdout",
     "output_type": "stream",
     "text": [
      "Test Accuracy  ::  0.782608695652174\n"
     ]
    }
   ],
   "source": [
    "y_pred = svclassifier.predict(test_x)\n",
    "y_pred\n",
    "\n",
    "print(\"Test Accuracy  :: \", accuracy_score(test_y, y_pred))"
   ]
  },
  {
   "cell_type": "code",
   "execution_count": 32,
   "metadata": {},
   "outputs": [
    {
     "name": "stdout",
     "output_type": "stream",
     "text": [
      "                   precision    recall  f1-score   support\n",
      "\n",
      "  Health Sciences       1.00      0.56      0.71        18\n",
      "    Life Sciences       0.75      0.92      0.83        13\n",
      "physical_sciences       0.70      0.93      0.80        15\n",
      "\n",
      "      avg / total       0.83      0.78      0.77        46\n",
      "\n"
     ]
    }
   ],
   "source": [
    "from sklearn.metrics import classification_report, confusion_matrix\n",
    "Cmatrix = confusion_matrix(test_y,y_pred)\n",
    "print(classification_report(test_y,y_pred))"
   ]
  },
  {
   "cell_type": "code",
   "execution_count": 33,
   "metadata": {},
   "outputs": [
    {
     "data": {
      "text/plain": [
       "array([[10,  3,  5],\n",
       "       [ 0, 12,  1],\n",
       "       [ 0,  1, 14]], dtype=int64)"
      ]
     },
     "execution_count": 33,
     "metadata": {},
     "output_type": "execute_result"
    }
   ],
   "source": [
    "Cmatrix"
   ]
  },
  {
   "cell_type": "code",
   "execution_count": 34,
   "metadata": {},
   "outputs": [
    {
     "data": {
      "image/png": "[encoded data removed]",
      "text/plain": [
       "<Figure size 360x360 with 2 Axes>"
      ]
     },
     "metadata": {},
     "output_type": "display_data"
    }
   ],
   "source": [
    "import matplotlib.pyplot as plt\n",
    "import seaborn as sns\n",
    "\n",
    "\n",
    "plt.figure(figsize=(5,5))\n",
    "sns.heatmap(Cmatrix, annot=True, fmt=\".0f\", linewidths=.8, square = True, cmap = 'Blues',xticklabels=lr.classes_, yticklabels=lr.classes_);\n",
    "plt.ylabel('Actual label');\n",
    "plt.xlabel('Predicted label');"
   ]
  },
  {
   "cell_type": "code",
   "execution_count": null,
   "metadata": {},
   "outputs": [],
   "source": []
  },
  {
   "cell_type": "code",
   "execution_count": null,
   "metadata": {},
   "outputs": [],
   "source": []
  },
  {
   "cell_type": "markdown",
   "metadata": {},
   "source": [
    "# Random Forest"
   ]
  },
  {
   "cell_type": "code",
   "execution_count": 35,
   "metadata": {},
   "outputs": [],
   "source": [
    "# Feature Scaling\n",
    "from sklearn.preprocessing import StandardScaler\n",
    "\n",
    "sc = StandardScaler()\n",
    "train_x = sc.fit_transform(train_x)\n",
    "test_x = sc.transform(test_x)"
   ]
  },
  {
   "cell_type": "code",
   "execution_count": 36,
   "metadata": {},
   "outputs": [
    {
     "data": {
      "text/plain": [
       "(184, 27943)"
      ]
     },
     "execution_count": 36,
     "metadata": {},
     "output_type": "execute_result"
    }
   ],
   "source": [
    "train_x.shape"
   ]
  },
  {
   "cell_type": "code",
   "execution_count": 37,
   "metadata": {},
   "outputs": [
    {
     "name": "stderr",
     "output_type": "stream",
     "text": [
      "C:\\Users\\mahimouni\\Anaconda3\\lib\\site-packages\\sklearn\\ensemble\\weight_boosting.py:29: DeprecationWarning: numpy.core.umath_tests is an internal NumPy module and should not be imported. It will be removed in a future NumPy release.\n",
      "  from numpy.core.umath_tests import inner1d\n"
     ]
    }
   ],
   "source": [
    "\n",
    "# Model Training\n",
    "\n",
    "from sklearn.ensemble import RandomForestClassifier\n",
    "\n",
    "RF_classifier = RandomForestClassifier(n_estimators=100, random_state=101)\n",
    "RF_classifier.fit(train_x, train_y)\n",
    "y_pred = RF_classifier.predict(test_x)"
   ]
  },
  {
   "cell_type": "code",
   "execution_count": 38,
   "metadata": {},
   "outputs": [
    {
     "name": "stdout",
     "output_type": "stream",
     "text": [
      "Test Accuracy  ::  0.8260869565217391\n"
     ]
    }
   ],
   "source": [
    "y_pred\n",
    "\n",
    "print(\"Test Accuracy  :: \", accuracy_score(test_y, y_pred))"
   ]
  },
  {
   "cell_type": "code",
   "execution_count": 39,
   "metadata": {},
   "outputs": [
    {
     "name": "stdout",
     "output_type": "stream",
     "text": [
      "                   precision    recall  f1-score   support\n",
      "\n",
      "  Health Sciences       0.79      0.83      0.81        18\n",
      "    Life Sciences       0.77      0.77      0.77        13\n",
      "physical_sciences       0.93      0.87      0.90        15\n",
      "\n",
      "      avg / total       0.83      0.83      0.83        46\n",
      "\n"
     ]
    }
   ],
   "source": [
    "from sklearn.metrics import classification_report, confusion_matrix\n",
    "Cmatrix = confusion_matrix(test_y,y_pred)\n",
    "print(classification_report(test_y,y_pred))"
   ]
  },
  {
   "cell_type": "code",
   "execution_count": 40,
   "metadata": {},
   "outputs": [
    {
     "name": "stdout",
     "output_type": "stream",
     "text": [
      "Test Accuracy  ::  0.8260869565217391\n"
     ]
    },
    {
     "data": {
      "image/png": "[encoded data removed]",
      "text/plain": [
       "<Figure size 360x360 with 2 Axes>"
      ]
     },
     "metadata": {},
     "output_type": "display_data"
    }
   ],
   "source": [
    "import matplotlib.pyplot as plt\n",
    "import seaborn as sns\n",
    "\n",
    "print(\"Test Accuracy  :: \", accuracy_score(test_y, y_pred))\n",
    "\n",
    "plt.figure(figsize=(5,5))\n",
    "sns.heatmap(Cmatrix, annot=True, fmt=\".0f\", linewidths=.8, square = True, cmap = 'coolwarm',xticklabels=lr.classes_, yticklabels=lr.classes_);\n",
    "plt.ylabel('Actual label');\n",
    "plt.xlabel('Predicted label');"
   ]
  },
  {
   "cell_type": "code",
   "execution_count": null,
   "metadata": {},
   "outputs": [],
   "source": []
  },
  {
   "cell_type": "code",
   "execution_count": null,
   "metadata": {},
   "outputs": [],
   "source": []
  },
  {
   "cell_type": "markdown",
   "metadata": {},
   "source": [
    "# KMeans"
   ]
  },
  {
   "cell_type": "code",
   "execution_count": 41,
   "metadata": {},
   "outputs": [],
   "source": [
    "import pandas\n",
    "\n",
    "import pylab as pl\n",
    "\n",
    "from sklearn.cluster import KMeans\n",
    "\n",
    "from sklearn.decomposition import PCA"
   ]
  },
  {
   "cell_type": "code",
   "execution_count": 42,
   "metadata": {},
   "outputs": [
    {
     "data": {
      "text/plain": [
       "array([1, 1, 1, 1, 1, 1, 1, 1, 1, 1, 1, 1, 1, 1, 1, 1, 1, 1, 1, 1, 1, 1,\n",
       "       1, 1, 1, 1, 1, 1, 1, 1, 1, 1, 1, 1, 1, 1, 1, 1, 1, 1, 1, 1, 1, 1,\n",
       "       1, 1, 1, 1, 1, 1, 1, 1, 1, 1, 1, 1, 1, 1, 1, 1, 1, 1, 1, 1, 1, 1,\n",
       "       1, 1, 1, 1, 1, 1, 1, 1, 1, 1, 0, 0, 0, 0, 0, 0, 0, 0, 0, 0, 0, 0,\n",
       "       0, 0, 0, 0, 0, 0, 0, 0, 0, 0, 0, 0, 0, 0, 0, 0, 0, 0, 0, 0, 0, 0,\n",
       "       0, 0, 0, 0, 0, 0, 0, 0, 0, 0, 0, 0, 0, 0, 0, 0, 0, 0, 0, 0, 0, 0,\n",
       "       0, 0, 0, 0, 0, 0, 0, 0, 0, 0, 0, 0, 0, 0, 0, 0, 0, 0, 0, 2, 2, 2,\n",
       "       2, 2, 2, 2, 2, 2, 2, 2, 2, 2, 2, 2, 2, 2, 2, 2, 2, 2, 2, 2, 2, 2,\n",
       "       2, 2, 2, 2, 2, 2, 2, 2, 2, 2, 2, 2, 2, 2, 2, 2, 2, 2, 2, 2, 2, 2,\n",
       "       2, 2, 2, 2, 2, 2, 2, 2, 2, 2, 2, 2, 2, 2, 2, 2, 2, 2, 2, 2, 2, 2,\n",
       "       2, 2, 2, 2, 2, 2, 2, 2, 2, 2], dtype=int64)"
      ]
     },
     "execution_count": 42,
     "metadata": {},
     "output_type": "execute_result"
    }
   ],
   "source": [
    "from sklearn.preprocessing import LabelEncoder\n",
    "label_encoder = LabelEncoder()\n",
    "Topic_encoded = label_encoder.fit_transform(data['Topic'])\n",
    "Topic_encoded # which contains the list of numeric values inwhich each values represents a category"
   ]
  },
  {
   "cell_type": "code",
   "execution_count": 43,
   "metadata": {},
   "outputs": [],
   "source": [
    "\n",
    "\n",
    "\n",
    "Y = Topic_encoded\n",
    "Y = Y.reshape(1,-1)\n",
    "x\n"
   ]
  },
  {
   "cell_type": "code",
   "execution_count": 50,
   "metadata": {},
   "outputs": [
    {
     "data": {
      "text/plain": [
       "(230, 27943)"
      ]
     },
     "execution_count": 50,
     "metadata": {},
     "output_type": "execute_result"
    }
   ],
   "source": [
    "x.shape"
   ]
  },
  {
   "cell_type": "code",
   "execution_count": 52,
   "metadata": {},
   "outputs": [
    {
     "data": {
      "image/png": "[encoded data removed]",
      "text/plain": [
       "<Figure size 432x288 with 1 Axes>"
      ]
     },
     "metadata": {},
     "output_type": "display_data"
    }
   ],
   "source": [
    "Nc = range(1, 20)\n",
    "\n",
    "kmeans = [KMeans(n_clusters=i) for i in Nc]\n",
    "\n",
    "kmeans\n",
    "\n",
    "score = [kmeans[i].fit(x).score(x) for i in range(len(kmeans))]\n",
    "\n",
    "score\n",
    "\n",
    "pl.plot(Nc,score)\n",
    "\n",
    "pl.xlabel('Number of Clusters')\n",
    "\n",
    "pl.ylabel('Score')\n",
    "\n",
    "pl.title('Elbow Curve')\n",
    "\n",
    "pl.show()"
   ]
  },
  {
   "cell_type": "code",
   "execution_count": null,
   "metadata": {},
   "outputs": [],
   "source": []
  },
  {
   "cell_type": "code",
   "execution_count": null,
   "metadata": {},
   "outputs": [],
   "source": []
  },
  {
   "cell_type": "code",
   "execution_count": null,
   "metadata": {},
   "outputs": [],
   "source": []
  },
  {
   "cell_type": "code",
   "execution_count": null,
   "metadata": {},
   "outputs": [],
   "source": []
  },
  {
   "cell_type": "code",
   "execution_count": null,
   "metadata": {},
   "outputs": [],
   "source": []
  }
 ],
 "metadata": {
  "kernelspec": {
   "display_name": "Python 3",
   "language": "python",
   "name": "python3"
  },
  "language_info": {
   "codemirror_mode": {
    "name": "ipython",
    "version": 3
   },
   "file_extension": ".py",
   "mimetype": "text/x-python",
   "name": "python",
   "nbconvert_exporter": "python",
   "pygments_lexer": "ipython3",
   "version": "3.6.5"
  }
 },
 "nbformat": 4,
 "nbformat_minor": 2
}
